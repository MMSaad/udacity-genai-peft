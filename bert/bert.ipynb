{
 "cells": [
  {
   "cell_type": "markdown",
   "id": "06ccd709",
   "metadata": {},
   "source": [
    "# PEFT Project\n",
    "simple project to demonstrate Parameter-Efficient Fine-Tunning Model using PEFT Library"
   ]
  },
  {
   "cell_type": "markdown",
   "id": "18a1d5a6",
   "metadata": {},
   "source": [
    "Install needed packages"
   ]
  },
  {
   "cell_type": "code",
   "execution_count": 7,
   "id": "a1c3bf8a",
   "metadata": {},
   "outputs": [
    {
     "name": "stdout",
     "output_type": "stream",
     "text": [
      "Looking in indexes: https://download.pytorch.org/whl/cu128\n",
      "Requirement already satisfied: torch in c:\\users\\engmu\\projects\\learn\\ai-projects\\.venv\\lib\\site-packages (2.8.0+cu128)\n",
      "Requirement already satisfied: torchvision in c:\\users\\engmu\\projects\\learn\\ai-projects\\.venv\\lib\\site-packages (0.23.0)\n",
      "Requirement already satisfied: torchaudio in c:\\users\\engmu\\projects\\learn\\ai-projects\\.venv\\lib\\site-packages (2.8.0+cu128)\n",
      "Requirement already satisfied: filelock in c:\\users\\engmu\\projects\\learn\\ai-projects\\.venv\\lib\\site-packages (from torch) (3.18.0)\n",
      "Requirement already satisfied: typing-extensions>=4.10.0 in c:\\users\\engmu\\projects\\learn\\ai-projects\\.venv\\lib\\site-packages (from torch) (4.14.1)\n",
      "Requirement already satisfied: sympy>=1.13.3 in c:\\users\\engmu\\projects\\learn\\ai-projects\\.venv\\lib\\site-packages (from torch) (1.14.0)\n",
      "Requirement already satisfied: networkx in c:\\users\\engmu\\projects\\learn\\ai-projects\\.venv\\lib\\site-packages (from torch) (3.5)\n",
      "Requirement already satisfied: jinja2 in c:\\users\\engmu\\projects\\learn\\ai-projects\\.venv\\lib\\site-packages (from torch) (3.1.6)\n",
      "Requirement already satisfied: fsspec in c:\\users\\engmu\\projects\\learn\\ai-projects\\.venv\\lib\\site-packages (from torch) (2025.3.0)\n",
      "Requirement already satisfied: setuptools in c:\\users\\engmu\\projects\\learn\\ai-projects\\.venv\\lib\\site-packages (from torch) (80.9.0)\n",
      "Requirement already satisfied: numpy in c:\\users\\engmu\\projects\\learn\\ai-projects\\.venv\\lib\\site-packages (from torchvision) (2.3.2)\n",
      "Requirement already satisfied: pillow!=8.3.*,>=5.3.0 in c:\\users\\engmu\\projects\\learn\\ai-projects\\.venv\\lib\\site-packages (from torchvision) (11.3.0)\n",
      "Requirement already satisfied: mpmath<1.4,>=1.1.0 in c:\\users\\engmu\\projects\\learn\\ai-projects\\.venv\\lib\\site-packages (from sympy>=1.13.3->torch) (1.3.0)\n",
      "Requirement already satisfied: MarkupSafe>=2.0 in c:\\users\\engmu\\projects\\learn\\ai-projects\\.venv\\lib\\site-packages (from jinja2->torch) (3.0.2)\n",
      "Note: you may need to restart the kernel to use updated packages.\n",
      "Requirement already satisfied: transformers in c:\\users\\engmu\\projects\\learn\\ai-projects\\.venv\\lib\\site-packages (4.55.0)\n",
      "Requirement already satisfied: peft in c:\\users\\engmu\\projects\\learn\\ai-projects\\.venv\\lib\\site-packages (0.17.0)\n",
      "Requirement already satisfied: scikit-learn in c:\\users\\engmu\\projects\\learn\\ai-projects\\.venv\\lib\\site-packages (1.7.1)\n",
      "Requirement already satisfied: pandas in c:\\users\\engmu\\projects\\learn\\ai-projects\\.venv\\lib\\site-packages (2.3.1)\n",
      "Requirement already satisfied: filelock in c:\\users\\engmu\\projects\\learn\\ai-projects\\.venv\\lib\\site-packages (from transformers) (3.18.0)\n",
      "Requirement already satisfied: huggingface-hub<1.0,>=0.34.0 in c:\\users\\engmu\\projects\\learn\\ai-projects\\.venv\\lib\\site-packages (from transformers) (0.34.4)\n",
      "Requirement already satisfied: numpy>=1.17 in c:\\users\\engmu\\projects\\learn\\ai-projects\\.venv\\lib\\site-packages (from transformers) (2.3.2)\n",
      "Requirement already satisfied: packaging>=20.0 in c:\\users\\engmu\\projects\\learn\\ai-projects\\.venv\\lib\\site-packages (from transformers) (25.0)\n",
      "Requirement already satisfied: pyyaml>=5.1 in c:\\users\\engmu\\projects\\learn\\ai-projects\\.venv\\lib\\site-packages (from transformers) (6.0.2)\n",
      "Requirement already satisfied: regex!=2019.12.17 in c:\\users\\engmu\\projects\\learn\\ai-projects\\.venv\\lib\\site-packages (from transformers) (2025.7.34)\n",
      "Requirement already satisfied: requests in c:\\users\\engmu\\projects\\learn\\ai-projects\\.venv\\lib\\site-packages (from transformers) (2.32.4)\n",
      "Requirement already satisfied: tokenizers<0.22,>=0.21 in c:\\users\\engmu\\projects\\learn\\ai-projects\\.venv\\lib\\site-packages (from transformers) (0.21.4)\n",
      "Requirement already satisfied: safetensors>=0.4.3 in c:\\users\\engmu\\projects\\learn\\ai-projects\\.venv\\lib\\site-packages (from transformers) (0.6.2)\n",
      "Requirement already satisfied: tqdm>=4.27 in c:\\users\\engmu\\projects\\learn\\ai-projects\\.venv\\lib\\site-packages (from transformers) (4.67.1)\n",
      "Requirement already satisfied: fsspec>=2023.5.0 in c:\\users\\engmu\\projects\\learn\\ai-projects\\.venv\\lib\\site-packages (from huggingface-hub<1.0,>=0.34.0->transformers) (2025.3.0)\n",
      "Requirement already satisfied: typing-extensions>=3.7.4.3 in c:\\users\\engmu\\projects\\learn\\ai-projects\\.venv\\lib\\site-packages (from huggingface-hub<1.0,>=0.34.0->transformers) (4.14.1)\n",
      "Requirement already satisfied: psutil in c:\\users\\engmu\\projects\\learn\\ai-projects\\.venv\\lib\\site-packages (from peft) (7.0.0)\n",
      "Requirement already satisfied: torch>=1.13.0 in c:\\users\\engmu\\projects\\learn\\ai-projects\\.venv\\lib\\site-packages (from peft) (2.8.0+cu128)\n",
      "Requirement already satisfied: accelerate>=0.21.0 in c:\\users\\engmu\\projects\\learn\\ai-projects\\.venv\\lib\\site-packages (from peft) (1.10.0)\n",
      "Requirement already satisfied: scipy>=1.8.0 in c:\\users\\engmu\\projects\\learn\\ai-projects\\.venv\\lib\\site-packages (from scikit-learn) (1.16.1)\n",
      "Requirement already satisfied: joblib>=1.2.0 in c:\\users\\engmu\\projects\\learn\\ai-projects\\.venv\\lib\\site-packages (from scikit-learn) (1.5.1)\n",
      "Requirement already satisfied: threadpoolctl>=3.1.0 in c:\\users\\engmu\\projects\\learn\\ai-projects\\.venv\\lib\\site-packages (from scikit-learn) (3.6.0)\n",
      "Requirement already satisfied: python-dateutil>=2.8.2 in c:\\users\\engmu\\projects\\learn\\ai-projects\\.venv\\lib\\site-packages (from pandas) (2.9.0.post0)\n",
      "Requirement already satisfied: pytz>=2020.1 in c:\\users\\engmu\\projects\\learn\\ai-projects\\.venv\\lib\\site-packages (from pandas) (2025.2)\n",
      "Requirement already satisfied: tzdata>=2022.7 in c:\\users\\engmu\\projects\\learn\\ai-projects\\.venv\\lib\\site-packages (from pandas) (2025.2)\n",
      "Requirement already satisfied: six>=1.5 in c:\\users\\engmu\\projects\\learn\\ai-projects\\.venv\\lib\\site-packages (from python-dateutil>=2.8.2->pandas) (1.17.0)\n",
      "Requirement already satisfied: sympy>=1.13.3 in c:\\users\\engmu\\projects\\learn\\ai-projects\\.venv\\lib\\site-packages (from torch>=1.13.0->peft) (1.14.0)\n",
      "Requirement already satisfied: networkx in c:\\users\\engmu\\projects\\learn\\ai-projects\\.venv\\lib\\site-packages (from torch>=1.13.0->peft) (3.5)\n",
      "Requirement already satisfied: jinja2 in c:\\users\\engmu\\projects\\learn\\ai-projects\\.venv\\lib\\site-packages (from torch>=1.13.0->peft) (3.1.6)\n",
      "Requirement already satisfied: setuptools in c:\\users\\engmu\\projects\\learn\\ai-projects\\.venv\\lib\\site-packages (from torch>=1.13.0->peft) (80.9.0)\n",
      "Requirement already satisfied: mpmath<1.4,>=1.1.0 in c:\\users\\engmu\\projects\\learn\\ai-projects\\.venv\\lib\\site-packages (from sympy>=1.13.3->torch>=1.13.0->peft) (1.3.0)\n",
      "Requirement already satisfied: colorama in c:\\users\\engmu\\projects\\learn\\ai-projects\\.venv\\lib\\site-packages (from tqdm>=4.27->transformers) (0.4.6)\n",
      "Requirement already satisfied: MarkupSafe>=2.0 in c:\\users\\engmu\\projects\\learn\\ai-projects\\.venv\\lib\\site-packages (from jinja2->torch>=1.13.0->peft) (3.0.2)\n",
      "Requirement already satisfied: charset_normalizer<4,>=2 in c:\\users\\engmu\\projects\\learn\\ai-projects\\.venv\\lib\\site-packages (from requests->transformers) (3.4.3)\n",
      "Requirement already satisfied: idna<4,>=2.5 in c:\\users\\engmu\\projects\\learn\\ai-projects\\.venv\\lib\\site-packages (from requests->transformers) (3.10)\n",
      "Requirement already satisfied: urllib3<3,>=1.21.1 in c:\\users\\engmu\\projects\\learn\\ai-projects\\.venv\\lib\\site-packages (from requests->transformers) (2.5.0)\n",
      "Requirement already satisfied: certifi>=2017.4.17 in c:\\users\\engmu\\projects\\learn\\ai-projects\\.venv\\lib\\site-packages (from requests->transformers) (2025.8.3)\n",
      "Note: you may need to restart the kernel to use updated packages.\n"
     ]
    }
   ],
   "source": [
    "%pip install --index-url https://download.pytorch.org/whl/cu128 torch torchvision torchaudio\n",
    "%pip install transformers peft scikit-learn pandas"
   ]
  },
  {
   "cell_type": "markdown",
   "id": "8564bb4f",
   "metadata": {},
   "source": [
    "# import needed classes"
   ]
  },
  {
   "cell_type": "code",
   "execution_count": 8,
   "id": "532cea0b",
   "metadata": {},
   "outputs": [],
   "source": [
    "import torch\n",
    "from transformers import DistilBertForSequenceClassification,DistilBertTokenizer,DataCollatorWithPadding,TrainingArguments,Trainer,pipeline\n",
    "from datasets import load_dataset\n",
    "import evaluate\n",
    "import numpy as np\n",
    "import pandas as pd\n",
    "from peft import LoraConfig, get_peft_model, AutoPeftModelForSequenceClassification"
   ]
  },
  {
   "cell_type": "markdown",
   "id": "bbe5fcd7",
   "metadata": {},
   "source": [
    "## Helper functions"
   ]
  },
  {
   "cell_type": "code",
   "execution_count": 9,
   "id": "15c75df5",
   "metadata": {},
   "outputs": [],
   "source": [
    "def get_bert_model_and_tokenizer():\n",
    "    model_name = 'distilbert/distilbert-base-uncased'\n",
    "    device = \"cuda\" if torch.cuda.is_available() else \"cpu\"\n",
    "    print(device)\n",
    "    base_model = DistilBertForSequenceClassification.from_pretrained(\n",
    "        model_name,\n",
    "        num_labels=6,\n",
    "        id2label={0:\"sadness\",1:\"joy\",2:\"love\",3:\"anger\",4:\"fear\",5:\"surprise\"},\n",
    "        label2id={\"sadness\":0,\"joy\":1,\"love\":2,\"anger\":3,\"fear\":4,\"surprise\":5}\n",
    "    )\n",
    "    base_model = base_model.to(device)\n",
    "    tokenizer = DistilBertTokenizer.from_pretrained(model_name)\n",
    "    return base_model, tokenizer"
   ]
  },
  {
   "cell_type": "markdown",
   "id": "93e23ae8",
   "metadata": {},
   "source": [
    "## Load pre-trained model and tokenizer"
   ]
  },
  {
   "cell_type": "code",
   "execution_count": 10,
   "id": "01411de5",
   "metadata": {},
   "outputs": [
    {
     "name": "stdout",
     "output_type": "stream",
     "text": [
      "cuda\n"
     ]
    },
    {
     "name": "stderr",
     "output_type": "stream",
     "text": [
      "Some weights of DistilBertForSequenceClassification were not initialized from the model checkpoint at distilbert/distilbert-base-uncased and are newly initialized: ['classifier.bias', 'classifier.weight', 'pre_classifier.bias', 'pre_classifier.weight']\n",
      "You should probably TRAIN this model on a down-stream task to be able to use it for predictions and inference.\n"
     ]
    }
   ],
   "source": [
    "# load pre_trained model\n",
    "base_model, tokenizer = get_bert_model_and_tokenizer()"
   ]
  },
  {
   "cell_type": "markdown",
   "id": "a948a7ac",
   "metadata": {},
   "source": [
    "## Datasets"
   ]
  },
  {
   "cell_type": "code",
   "execution_count": 11,
   "id": "e9f22419",
   "metadata": {},
   "outputs": [
    {
     "name": "stdout",
     "output_type": "stream",
     "text": [
      "                                                    text  label\n",
      "0                                i didnt feel humiliated      0\n",
      "1      i can go from feeling so hopeless to so damned...      0\n",
      "2       im grabbing a minute to post i feel greedy wrong      3\n",
      "3      i am ever feeling nostalgic about the fireplac...      2\n",
      "4                                   i am feeling grouchy      3\n",
      "...                                                  ...    ...\n",
      "15995  i just had a very brief time in the beanbag an...      0\n",
      "15996  i am now turning and i feel pathetic that i am...      0\n",
      "15997                     i feel strong and good overall      1\n",
      "15998  i feel like this was such a rude comment and i...      3\n",
      "15999  i know a lot but i feel so stupid because i ca...      0\n",
      "\n",
      "[16000 rows x 2 columns]\n",
      "                                                   text  label\n",
      "0     im feeling rather rotten so im not very ambiti...      0\n",
      "1             im updating my blog because i feel shitty      0\n",
      "2     i never make her separate from me because i do...      0\n",
      "3     i left with my bouquet of red and yellow tulip...      1\n",
      "4       i was feeling a little vain when i did this one      0\n",
      "...                                                 ...    ...\n",
      "1995  i just keep feeling like someone is being unki...      3\n",
      "1996  im feeling a little cranky negative after this...      3\n",
      "1997  i feel that i am useful to my people and that ...      1\n",
      "1998  im feeling more comfortable with derby i feel ...      1\n",
      "1999  i feel all weird when i have to meet w people ...      4\n",
      "\n",
      "[2000 rows x 2 columns]\n"
     ]
    }
   ],
   "source": [
    "# load dataset\n",
    "dataset_name = \"dair-ai/emotion\"  \n",
    "dataset = load_dataset(dataset_name) \n",
    "\n",
    "# define tokenizer function\n",
    "def tokenize_fun(dataset):\n",
    "    return tokenizer(dataset[\"text\"], padding=\"max_length\", truncation=True)\n",
    "\n",
    "# define datasets\n",
    "train_dataset = dataset[\"train\"].map(tokenize_fun, batched=True) # limit the dataset for fast training\n",
    "test_dataset = dataset[\"test\"].map(tokenize_fun, batched=True) # limit the dataset for fast evaluation\n",
    "print(pd.DataFrame(dataset[\"train\"]))\n",
    "print(pd.DataFrame(dataset[\"test\"]))"
   ]
  },
  {
   "cell_type": "markdown",
   "id": "4f7000bf",
   "metadata": {},
   "source": [
    "## manually test model"
   ]
  },
  {
   "cell_type": "code",
   "execution_count": 12,
   "id": "645e7963",
   "metadata": {},
   "outputs": [
    {
     "name": "stderr",
     "output_type": "stream",
     "text": [
      "Device set to use cuda:0\n"
     ]
    },
    {
     "name": "stdout",
     "output_type": "stream",
     "text": [
      "base model test with 'I feel little rainy ' result => [[{'label': 'joy', 'score': 0.17473365366458893}]]\n",
      "base model test with 'there are many definitions of 'time waster' result => [[{'label': 'surprise', 'score': 0.17394384741783142}]]\n",
      "base model test with 'movie has good music' result => [[{'label': 'joy', 'score': 0.18232040107250214}]]\n"
     ]
    }
   ],
   "source": [
    "tests = [\n",
    "    \"I feel little rainy \",\n",
    "    \"there are many definitions of 'time waster\",\n",
    "    \"movie has good music\"\n",
    "]\n",
    "\n",
    "base_model_pipeline = pipeline(\"text-classification\", model=base_model, tokenizer=tokenizer, top_k=1)\n",
    "for test in tests:\n",
    "    print(f\"base model test with '{test}' result => {base_model_pipeline(test)}\")"
   ]
  },
  {
   "cell_type": "markdown",
   "id": "ffcafa32",
   "metadata": {},
   "source": [
    "## Evaluate pre-trained model"
   ]
  },
  {
   "cell_type": "code",
   "execution_count": 13,
   "id": "ffb97af4",
   "metadata": {},
   "outputs": [
    {
     "name": "stderr",
     "output_type": "stream",
     "text": [
      "C:\\Users\\engmu\\AppData\\Local\\Temp\\ipykernel_27572\\3219049740.py:22: FutureWarning: `tokenizer` is deprecated and will be removed in version 5.0.0 for `Trainer.__init__`. Use `processing_class` instead.\n",
      "  original_trainer = Trainer(\n"
     ]
    },
    {
     "data": {
      "text/html": [
       "\n",
       "    <div>\n",
       "      \n",
       "      <progress value='126' max='63' style='width:300px; height:20px; vertical-align: middle;'></progress>\n",
       "      [63/63 08:12]\n",
       "    </div>\n",
       "    "
      ],
      "text/plain": [
       "<IPython.core.display.HTML object>"
      ]
     },
     "metadata": {},
     "output_type": "display_data"
    },
    {
     "name": "stdout",
     "output_type": "stream",
     "text": [
      "{'eval_loss': 1.7920893430709839, 'eval_model_preparation_time': 0.0037, 'eval_accuracy': 0.2665, 'eval_runtime': 8.6308, 'eval_samples_per_second': 231.727, 'eval_steps_per_second': 7.299}\n"
     ]
    }
   ],
   "source": [
    "#define compute metrics function\n",
    "def compute_metrics(eval_pred):\n",
    "    predictions, labels = eval_pred\n",
    "    predictions = np.argmax(predictions, axis=1)\n",
    "    return accuracy.compute(predictions=predictions, references=labels)\n",
    "\n",
    "# test pre-trained model against dataset and note total loss\n",
    "data_collator = DataCollatorWithPadding(tokenizer=tokenizer)\n",
    "accuracy = evaluate.load(\"accuracy\")\n",
    "\n",
    "# start evaluation \n",
    "original_model_eval_args = TrainingArguments(\n",
    "    output_dir=\"original_eval_out\",\n",
    "    do_train=False,\n",
    "    do_eval=True,\n",
    "    per_device_eval_batch_size=32,\n",
    "    dataloader_num_workers=0,\n",
    "    fp16=torch.cuda.is_available(),\n",
    "    report_to=[]\n",
    ")\n",
    "\n",
    "original_trainer = Trainer(\n",
    "    model=base_model,\n",
    "    args=original_model_eval_args,\n",
    "    eval_dataset=test_dataset,\n",
    "    tokenizer=tokenizer,\n",
    "    data_collator=data_collator,\n",
    "    compute_metrics=compute_metrics\n",
    ")\n",
    "original_eval_metrics = original_trainer.evaluate()\n",
    "print(original_eval_metrics)"
   ]
  },
  {
   "cell_type": "markdown",
   "id": "ec4c8c33",
   "metadata": {},
   "source": [
    "## Create PEFT model from pre-trained one"
   ]
  },
  {
   "cell_type": "code",
   "execution_count": 14,
   "id": "4829176d",
   "metadata": {},
   "outputs": [
    {
     "name": "stdout",
     "output_type": "stream",
     "text": [
      "DistilBertForSequenceClassification(\n",
      "  (distilbert): DistilBertModel(\n",
      "    (embeddings): Embeddings(\n",
      "      (word_embeddings): Embedding(30522, 768, padding_idx=0)\n",
      "      (position_embeddings): Embedding(512, 768)\n",
      "      (LayerNorm): LayerNorm((768,), eps=1e-12, elementwise_affine=True)\n",
      "      (dropout): Dropout(p=0.1, inplace=False)\n",
      "    )\n",
      "    (transformer): Transformer(\n",
      "      (layer): ModuleList(\n",
      "        (0-5): 6 x TransformerBlock(\n",
      "          (attention): DistilBertSdpaAttention(\n",
      "            (dropout): Dropout(p=0.1, inplace=False)\n",
      "            (q_lin): Linear(in_features=768, out_features=768, bias=True)\n",
      "            (k_lin): Linear(in_features=768, out_features=768, bias=True)\n",
      "            (v_lin): Linear(in_features=768, out_features=768, bias=True)\n",
      "            (out_lin): Linear(in_features=768, out_features=768, bias=True)\n",
      "          )\n",
      "          (sa_layer_norm): LayerNorm((768,), eps=1e-12, elementwise_affine=True)\n",
      "          (ffn): FFN(\n",
      "            (dropout): Dropout(p=0.1, inplace=False)\n",
      "            (lin1): Linear(in_features=768, out_features=3072, bias=True)\n",
      "            (lin2): Linear(in_features=3072, out_features=768, bias=True)\n",
      "            (activation): GELUActivation()\n",
      "          )\n",
      "          (output_layer_norm): LayerNorm((768,), eps=1e-12, elementwise_affine=True)\n",
      "        )\n",
      "      )\n",
      "    )\n",
      "  )\n",
      "  (pre_classifier): Linear(in_features=768, out_features=768, bias=True)\n",
      "  (classifier): Linear(in_features=768, out_features=6, bias=True)\n",
      "  (dropout): Dropout(p=0.2, inplace=False)\n",
      ")\n",
      "cuda\n"
     ]
    },
    {
     "name": "stderr",
     "output_type": "stream",
     "text": [
      "Some weights of DistilBertForSequenceClassification were not initialized from the model checkpoint at distilbert/distilbert-base-uncased and are newly initialized: ['classifier.bias', 'classifier.weight', 'pre_classifier.bias', 'pre_classifier.weight']\n",
      "You should probably TRAIN this model on a down-stream task to be able to use it for predictions and inference.\n"
     ]
    },
    {
     "name": "stdout",
     "output_type": "stream",
     "text": [
      "trainable params: 668,934 || all params: 67,627,020 || trainable%: 0.9892\n"
     ]
    }
   ],
   "source": [
    "# create peft model\n",
    "print(base_model)\n",
    "config = LoraConfig(\n",
    "    target_modules=[\"v_lin\"],\n",
    "    modules_to_save=[\"pre_classifier\",\"classifier\"]\n",
    ")\n",
    "peft_base_model, peft_tokenizer = get_bert_model_and_tokenizer()\n",
    "peft_model = get_peft_model(peft_base_model,config)\n",
    "peft_model.print_trainable_parameters()"
   ]
  },
  {
   "cell_type": "markdown",
   "id": "d77afc4a",
   "metadata": {},
   "source": [
    "## Train PEFT Model on train dataset"
   ]
  },
  {
   "cell_type": "code",
   "execution_count": 15,
   "id": "0889b6e5",
   "metadata": {},
   "outputs": [
    {
     "name": "stderr",
     "output_type": "stream",
     "text": [
      "C:\\Users\\engmu\\AppData\\Local\\Temp\\ipykernel_27572\\3531621766.py:14: FutureWarning: `tokenizer` is deprecated and will be removed in version 5.0.0 for `Trainer.__init__`. Use `processing_class` instead.\n",
      "  peft_trainer = Trainer(\n"
     ]
    },
    {
     "data": {
      "text/html": [
       "\n",
       "    <div>\n",
       "      \n",
       "      <progress value='6000' max='6000' style='width:300px; height:20px; vertical-align: middle;'></progress>\n",
       "      [6000/6000 07:52, Epoch 3/3]\n",
       "    </div>\n",
       "    <table border=\"1\" class=\"dataframe\">\n",
       "  <thead>\n",
       " <tr style=\"text-align: left;\">\n",
       "      <th>Step</th>\n",
       "      <th>Training Loss</th>\n",
       "    </tr>\n",
       "  </thead>\n",
       "  <tbody>\n",
       "    <tr>\n",
       "      <td>500</td>\n",
       "      <td>1.397800</td>\n",
       "    </tr>\n",
       "    <tr>\n",
       "      <td>1000</td>\n",
       "      <td>1.117100</td>\n",
       "    </tr>\n",
       "    <tr>\n",
       "      <td>1500</td>\n",
       "      <td>0.944500</td>\n",
       "    </tr>\n",
       "    <tr>\n",
       "      <td>2000</td>\n",
       "      <td>0.833500</td>\n",
       "    </tr>\n",
       "    <tr>\n",
       "      <td>2500</td>\n",
       "      <td>0.741500</td>\n",
       "    </tr>\n",
       "    <tr>\n",
       "      <td>3000</td>\n",
       "      <td>0.685100</td>\n",
       "    </tr>\n",
       "    <tr>\n",
       "      <td>3500</td>\n",
       "      <td>0.638200</td>\n",
       "    </tr>\n",
       "    <tr>\n",
       "      <td>4000</td>\n",
       "      <td>0.652300</td>\n",
       "    </tr>\n",
       "    <tr>\n",
       "      <td>4500</td>\n",
       "      <td>0.598700</td>\n",
       "    </tr>\n",
       "    <tr>\n",
       "      <td>5000</td>\n",
       "      <td>0.588100</td>\n",
       "    </tr>\n",
       "    <tr>\n",
       "      <td>5500</td>\n",
       "      <td>0.586700</td>\n",
       "    </tr>\n",
       "    <tr>\n",
       "      <td>6000</td>\n",
       "      <td>0.594300</td>\n",
       "    </tr>\n",
       "  </tbody>\n",
       "</table><p>"
      ],
      "text/plain": [
       "<IPython.core.display.HTML object>"
      ]
     },
     "metadata": {},
     "output_type": "display_data"
    },
    {
     "name": "stdout",
     "output_type": "stream",
     "text": [
      "TrainOutput(global_step=6000, training_loss=0.781481928507487, metrics={'train_runtime': 473.0972, 'train_samples_per_second': 101.459, 'train_steps_per_second': 12.682, 'total_flos': 6457527042048000.0, 'train_loss': 0.781481928507487, 'epoch': 3.0})\n"
     ]
    }
   ],
   "source": [
    "# train the model against dataset\n",
    "peft_model_train_args = TrainingArguments(\n",
    "    output_dir=\"peft_train_out\",\n",
    "    do_train=True,\n",
    "    do_eval=False,\n",
    "    learning_rate=2e-5,\n",
    "    per_device_train_batch_size=32,\n",
    "    # per_device_eval_batch_size=32,\n",
    "    dataloader_num_workers=0,\n",
    "    fp16=torch.cuda.is_available(),\n",
    "    report_to=[]\n",
    ")\n",
    "\n",
    "peft_trainer = Trainer(\n",
    "    model=peft_model,\n",
    "    args=original_model_eval_args,\n",
    "    train_dataset=train_dataset,\n",
    "    \n",
    "    # eval_dataset=test_dataset,\n",
    "    tokenizer=peft_tokenizer,\n",
    "    data_collator=data_collator,\n",
    "    compute_metrics=compute_metrics\n",
    ")\n",
    "peft_model_metrics = peft_trainer.train()\n",
    "print(peft_model_metrics)\n",
    "peft_model.save_pretrained(\"distilbert-mustafa-uncased\")"
   ]
  },
  {
   "cell_type": "markdown",
   "id": "79ffde0f",
   "metadata": {},
   "source": [
    "## Login to HuggingFace"
   ]
  },
  {
   "cell_type": "code",
   "execution_count": null,
   "id": "c5abc052",
   "metadata": {},
   "outputs": [],
   "source": [
    "from huggingface_hub import login\n",
    "login() # This will prompt you to enter your Hugging Face token"
   ]
  },
  {
   "cell_type": "markdown",
   "id": "a6a0ebf5",
   "metadata": {},
   "source": [
    "## Push to HuggingFace"
   ]
  },
  {
   "cell_type": "code",
   "execution_count": null,
   "id": "bf17f1fc",
   "metadata": {},
   "outputs": [],
   "source": [
    "peft_model.save_pretrained(\"GeekInside/distilbert-mustafa-uncased\")"
   ]
  },
  {
   "cell_type": "markdown",
   "id": "329f1888",
   "metadata": {},
   "source": [
    "# Test PEFT Model"
   ]
  },
  {
   "cell_type": "code",
   "execution_count": 16,
   "id": "780e783c",
   "metadata": {},
   "outputs": [
    {
     "name": "stderr",
     "output_type": "stream",
     "text": [
      "Some weights of DistilBertForSequenceClassification were not initialized from the model checkpoint at distilbert/distilbert-base-uncased and are newly initialized: ['classifier.bias', 'classifier.weight', 'pre_classifier.bias', 'pre_classifier.weight']\n",
      "You should probably TRAIN this model on a down-stream task to be able to use it for predictions and inference.\n",
      "C:\\Users\\engmu\\AppData\\Local\\Temp\\ipykernel_27572\\752444017.py:18: FutureWarning: `tokenizer` is deprecated and will be removed in version 5.0.0 for `Trainer.__init__`. Use `processing_class` instead.\n",
      "  peft_trainer = Trainer(\n"
     ]
    },
    {
     "name": "stdout",
     "output_type": "stream",
     "text": [
      "{'eval_loss': 1.7920893430709839, 'eval_model_preparation_time': 0.0037, 'eval_accuracy': 0.2665, 'eval_runtime': 7.5734, 'eval_samples_per_second': 264.083, 'eval_steps_per_second': 8.319}\n"
     ]
    }
   ],
   "source": [
    "#base = DistilBertForSequenceClassification.from_pretrained('distilbert-base-uncased')\n",
    "peft_model = AutoPeftModelForSequenceClassification.from_pretrained(\n",
    "    'distilbert-mustafa-uncased',\n",
    "    num_labels=6,\n",
    "    id2label={0:\"sadness\",1:\"joy\",2:\"love\",3:\"anger\",4:\"fear\",5:\"surprise\"},\n",
    "    label2id={\"sadness\":0,\"joy\":1,\"love\":2,\"anger\":3,\"fear\":4,\"surprise\":5}\n",
    ")\n",
    "peft_model_eval_args = TrainingArguments(\n",
    "    output_dir=\"peft_eval_out\",\n",
    "    do_train=False,\n",
    "    do_eval=True,\n",
    "    per_device_eval_batch_size=32,\n",
    "    dataloader_num_workers=0,\n",
    "    fp16=torch.cuda.is_available(),\n",
    "    report_to=[]\n",
    ")\n",
    "\n",
    "peft_trainer = Trainer(\n",
    "    model=peft_model,\n",
    "    args=peft_model_eval_args,\n",
    "    eval_dataset=test_dataset,\n",
    "    tokenizer=tokenizer,\n",
    "    data_collator=data_collator,\n",
    "    compute_metrics=compute_metrics\n",
    ")\n",
    "peft_metrics = original_trainer.evaluate()\n",
    "print(peft_metrics)"
   ]
  },
  {
   "cell_type": "markdown",
   "id": "4cbd8177",
   "metadata": {},
   "source": [
    "## manually test both original model and PEFT model"
   ]
  },
  {
   "cell_type": "code",
   "execution_count": 17,
   "id": "705adb93",
   "metadata": {},
   "outputs": [
    {
     "name": "stderr",
     "output_type": "stream",
     "text": [
      "Device set to use cuda:0\n",
      "Device set to use cuda:0\n"
     ]
    },
    {
     "name": "stdout",
     "output_type": "stream",
     "text": [
      "base model test with 'I feel little rainy ' result => [[{'label': 'joy', 'score': 0.17472906410694122}]]\n",
      "peft model test with 'I feel little rainy ' result => [[{'label': 'sadness', 'score': 0.8348094820976257}]]\n",
      "base model test with 'there are many definitions of 'time waster' result => [[{'label': 'surprise', 'score': 0.17392916977405548}]]\n",
      "peft model test with 'there are many definitions of 'time waster' result => [[{'label': 'sadness', 'score': 0.5689401030540466}]]\n"
     ]
    }
   ],
   "source": [
    "tests = [\n",
    "    \"I feel little rainy \",\n",
    "    \"there are many definitions of 'time waster\",\n",
    "\n",
    "]\n",
    "\n",
    "base_model_pipeline = pipeline(\"text-classification\", model=base_model, tokenizer=tokenizer, top_k=1)\n",
    "peft_model_pipeline = pipeline(\"text-classification\", model=peft_model,tokenizer=tokenizer, top_k=1)\n",
    "for test in tests:\n",
    "    print(f\"base model test with '{test}' result => {base_model_pipeline(test)}\")\n",
    "    print(f\"peft model test with '{test}' result => {peft_model_pipeline(test)}\")"
   ]
  }
 ],
 "metadata": {
  "kernelspec": {
   "display_name": ".venv",
   "language": "python",
   "name": "python3"
  },
  "language_info": {
   "codemirror_mode": {
    "name": "ipython",
    "version": 3
   },
   "file_extension": ".py",
   "mimetype": "text/x-python",
   "name": "python",
   "nbconvert_exporter": "python",
   "pygments_lexer": "ipython3",
   "version": "3.12.6"
  }
 },
 "nbformat": 4,
 "nbformat_minor": 5
}
