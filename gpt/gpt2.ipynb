{
 "cells": [
  {
   "cell_type": "markdown",
   "id": "06ccd709",
   "metadata": {},
   "source": [
    "# PEFT Project\n",
    "simple project to demonstrate Parameter-Efficient Fine-Tunning Model using PEFT Library"
   ]
  },
  {
   "cell_type": "markdown",
   "id": "18a1d5a6",
   "metadata": {},
   "source": [
    "Install needed packages"
   ]
  },
  {
   "cell_type": "code",
   "execution_count": 1,
   "id": "a1c3bf8a",
   "metadata": {},
   "outputs": [
    {
     "name": "stdout",
     "output_type": "stream",
     "text": [
      "Looking in indexes: https://download.pytorch.org/whl/cu128\n",
      "Requirement already satisfied: torch in c:\\users\\engmu\\projects\\learn\\udacity-genai-peft\\.venv\\lib\\site-packages (2.8.0+cu128)\n",
      "Requirement already satisfied: torchvision in c:\\users\\engmu\\projects\\learn\\udacity-genai-peft\\.venv\\lib\\site-packages (0.23.0+cu128)\n",
      "Requirement already satisfied: torchaudio in c:\\users\\engmu\\projects\\learn\\udacity-genai-peft\\.venv\\lib\\site-packages (2.8.0+cu128)\n",
      "Requirement already satisfied: filelock in c:\\users\\engmu\\projects\\learn\\udacity-genai-peft\\.venv\\lib\\site-packages (from torch) (3.13.1)\n",
      "Requirement already satisfied: typing-extensions>=4.10.0 in c:\\users\\engmu\\projects\\learn\\udacity-genai-peft\\.venv\\lib\\site-packages (from torch) (4.12.2)\n",
      "Requirement already satisfied: sympy>=1.13.3 in c:\\users\\engmu\\projects\\learn\\udacity-genai-peft\\.venv\\lib\\site-packages (from torch) (1.13.3)\n",
      "Requirement already satisfied: networkx in c:\\users\\engmu\\projects\\learn\\udacity-genai-peft\\.venv\\lib\\site-packages (from torch) (3.3)\n",
      "Requirement already satisfied: jinja2 in c:\\users\\engmu\\projects\\learn\\udacity-genai-peft\\.venv\\lib\\site-packages (from torch) (3.1.4)\n",
      "Requirement already satisfied: fsspec in c:\\users\\engmu\\projects\\learn\\udacity-genai-peft\\.venv\\lib\\site-packages (from torch) (2024.6.1)\n",
      "Requirement already satisfied: setuptools in c:\\users\\engmu\\projects\\learn\\udacity-genai-peft\\.venv\\lib\\site-packages (from torch) (70.2.0)\n",
      "Requirement already satisfied: numpy in c:\\users\\engmu\\projects\\learn\\udacity-genai-peft\\.venv\\lib\\site-packages (from torchvision) (2.1.2)\n",
      "Requirement already satisfied: pillow!=8.3.*,>=5.3.0 in c:\\users\\engmu\\projects\\learn\\udacity-genai-peft\\.venv\\lib\\site-packages (from torchvision) (11.0.0)\n",
      "Requirement already satisfied: mpmath<1.4,>=1.1.0 in c:\\users\\engmu\\projects\\learn\\udacity-genai-peft\\.venv\\lib\\site-packages (from sympy>=1.13.3->torch) (1.3.0)\n",
      "Requirement already satisfied: MarkupSafe>=2.0 in c:\\users\\engmu\\projects\\learn\\udacity-genai-peft\\.venv\\lib\\site-packages (from jinja2->torch) (2.1.5)\n",
      "Note: you may need to restart the kernel to use updated packages.\n",
      "Requirement already satisfied: transformers in c:\\users\\engmu\\projects\\learn\\udacity-genai-peft\\.venv\\lib\\site-packages (4.55.2)\n",
      "Requirement already satisfied: peft in c:\\users\\engmu\\projects\\learn\\udacity-genai-peft\\.venv\\lib\\site-packages (0.17.0)\n",
      "Requirement already satisfied: scikit-learn in c:\\users\\engmu\\projects\\learn\\udacity-genai-peft\\.venv\\lib\\site-packages (1.7.1)\n",
      "Requirement already satisfied: pandas in c:\\users\\engmu\\projects\\learn\\udacity-genai-peft\\.venv\\lib\\site-packages (2.3.1)\n",
      "Requirement already satisfied: huggingface_hub in c:\\users\\engmu\\projects\\learn\\udacity-genai-peft\\.venv\\lib\\site-packages (0.34.4)\n",
      "Requirement already satisfied: datasets in c:\\users\\engmu\\projects\\learn\\udacity-genai-peft\\.venv\\lib\\site-packages (4.0.0)\n",
      "Requirement already satisfied: hf_xet in c:\\users\\engmu\\projects\\learn\\udacity-genai-peft\\.venv\\lib\\site-packages (1.1.7)\n",
      "Requirement already satisfied: evaluate in c:\\users\\engmu\\projects\\learn\\udacity-genai-peft\\.venv\\lib\\site-packages (0.4.5)\n",
      "Requirement already satisfied: ipywidgets in c:\\users\\engmu\\projects\\learn\\udacity-genai-peft\\.venv\\lib\\site-packages (8.1.7)\n",
      "Requirement already satisfied: filelock in c:\\users\\engmu\\projects\\learn\\udacity-genai-peft\\.venv\\lib\\site-packages (from transformers) (3.13.1)\n",
      "Requirement already satisfied: numpy>=1.17 in c:\\users\\engmu\\projects\\learn\\udacity-genai-peft\\.venv\\lib\\site-packages (from transformers) (2.1.2)\n",
      "Requirement already satisfied: packaging>=20.0 in c:\\users\\engmu\\projects\\learn\\udacity-genai-peft\\.venv\\lib\\site-packages (from transformers) (25.0)\n",
      "Requirement already satisfied: pyyaml>=5.1 in c:\\users\\engmu\\projects\\learn\\udacity-genai-peft\\.venv\\lib\\site-packages (from transformers) (6.0.2)\n",
      "Requirement already satisfied: regex!=2019.12.17 in c:\\users\\engmu\\projects\\learn\\udacity-genai-peft\\.venv\\lib\\site-packages (from transformers) (2025.7.34)\n",
      "Requirement already satisfied: requests in c:\\users\\engmu\\projects\\learn\\udacity-genai-peft\\.venv\\lib\\site-packages (from transformers) (2.32.4)\n",
      "Requirement already satisfied: tokenizers<0.22,>=0.21 in c:\\users\\engmu\\projects\\learn\\udacity-genai-peft\\.venv\\lib\\site-packages (from transformers) (0.21.4)\n",
      "Requirement already satisfied: safetensors>=0.4.3 in c:\\users\\engmu\\projects\\learn\\udacity-genai-peft\\.venv\\lib\\site-packages (from transformers) (0.6.2)\n",
      "Requirement already satisfied: tqdm>=4.27 in c:\\users\\engmu\\projects\\learn\\udacity-genai-peft\\.venv\\lib\\site-packages (from transformers) (4.67.1)\n",
      "Requirement already satisfied: fsspec>=2023.5.0 in c:\\users\\engmu\\projects\\learn\\udacity-genai-peft\\.venv\\lib\\site-packages (from huggingface_hub) (2024.6.1)\n",
      "Requirement already satisfied: typing-extensions>=3.7.4.3 in c:\\users\\engmu\\projects\\learn\\udacity-genai-peft\\.venv\\lib\\site-packages (from huggingface_hub) (4.12.2)\n",
      "Requirement already satisfied: psutil in c:\\users\\engmu\\projects\\learn\\udacity-genai-peft\\.venv\\lib\\site-packages (from peft) (7.0.0)\n",
      "Requirement already satisfied: torch>=1.13.0 in c:\\users\\engmu\\projects\\learn\\udacity-genai-peft\\.venv\\lib\\site-packages (from peft) (2.8.0+cu128)\n",
      "Requirement already satisfied: accelerate>=0.21.0 in c:\\users\\engmu\\projects\\learn\\udacity-genai-peft\\.venv\\lib\\site-packages (from peft) (1.10.0)\n",
      "Requirement already satisfied: scipy>=1.8.0 in c:\\users\\engmu\\projects\\learn\\udacity-genai-peft\\.venv\\lib\\site-packages (from scikit-learn) (1.16.1)\n",
      "Requirement already satisfied: joblib>=1.2.0 in c:\\users\\engmu\\projects\\learn\\udacity-genai-peft\\.venv\\lib\\site-packages (from scikit-learn) (1.5.1)\n",
      "Requirement already satisfied: threadpoolctl>=3.1.0 in c:\\users\\engmu\\projects\\learn\\udacity-genai-peft\\.venv\\lib\\site-packages (from scikit-learn) (3.6.0)\n",
      "Requirement already satisfied: python-dateutil>=2.8.2 in c:\\users\\engmu\\projects\\learn\\udacity-genai-peft\\.venv\\lib\\site-packages (from pandas) (2.9.0.post0)\n",
      "Requirement already satisfied: pytz>=2020.1 in c:\\users\\engmu\\projects\\learn\\udacity-genai-peft\\.venv\\lib\\site-packages (from pandas) (2025.2)\n",
      "Requirement already satisfied: tzdata>=2022.7 in c:\\users\\engmu\\projects\\learn\\udacity-genai-peft\\.venv\\lib\\site-packages (from pandas) (2025.2)\n",
      "Requirement already satisfied: pyarrow>=15.0.0 in c:\\users\\engmu\\projects\\learn\\udacity-genai-peft\\.venv\\lib\\site-packages (from datasets) (21.0.0)\n",
      "Requirement already satisfied: dill<0.3.9,>=0.3.0 in c:\\users\\engmu\\projects\\learn\\udacity-genai-peft\\.venv\\lib\\site-packages (from datasets) (0.3.8)\n",
      "Requirement already satisfied: xxhash in c:\\users\\engmu\\projects\\learn\\udacity-genai-peft\\.venv\\lib\\site-packages (from datasets) (3.5.0)\n",
      "Requirement already satisfied: multiprocess<0.70.17 in c:\\users\\engmu\\projects\\learn\\udacity-genai-peft\\.venv\\lib\\site-packages (from datasets) (0.70.16)\n",
      "Requirement already satisfied: aiohttp!=4.0.0a0,!=4.0.0a1 in c:\\users\\engmu\\projects\\learn\\udacity-genai-peft\\.venv\\lib\\site-packages (from fsspec[http]<=2025.3.0,>=2023.1.0->datasets) (3.12.15)\n",
      "Requirement already satisfied: comm>=0.1.3 in c:\\users\\engmu\\projects\\learn\\udacity-genai-peft\\.venv\\lib\\site-packages (from ipywidgets) (0.2.3)\n",
      "Requirement already satisfied: ipython>=6.1.0 in c:\\users\\engmu\\projects\\learn\\udacity-genai-peft\\.venv\\lib\\site-packages (from ipywidgets) (9.4.0)\n",
      "Requirement already satisfied: traitlets>=4.3.1 in c:\\users\\engmu\\projects\\learn\\udacity-genai-peft\\.venv\\lib\\site-packages (from ipywidgets) (5.14.3)\n",
      "Requirement already satisfied: widgetsnbextension~=4.0.14 in c:\\users\\engmu\\projects\\learn\\udacity-genai-peft\\.venv\\lib\\site-packages (from ipywidgets) (4.0.14)\n",
      "Requirement already satisfied: jupyterlab_widgets~=3.0.15 in c:\\users\\engmu\\projects\\learn\\udacity-genai-peft\\.venv\\lib\\site-packages (from ipywidgets) (3.0.15)\n",
      "Requirement already satisfied: aiohappyeyeballs>=2.5.0 in c:\\users\\engmu\\projects\\learn\\udacity-genai-peft\\.venv\\lib\\site-packages (from aiohttp!=4.0.0a0,!=4.0.0a1->fsspec[http]<=2025.3.0,>=2023.1.0->datasets) (2.6.1)\n",
      "Requirement already satisfied: aiosignal>=1.4.0 in c:\\users\\engmu\\projects\\learn\\udacity-genai-peft\\.venv\\lib\\site-packages (from aiohttp!=4.0.0a0,!=4.0.0a1->fsspec[http]<=2025.3.0,>=2023.1.0->datasets) (1.4.0)\n",
      "Requirement already satisfied: attrs>=17.3.0 in c:\\users\\engmu\\projects\\learn\\udacity-genai-peft\\.venv\\lib\\site-packages (from aiohttp!=4.0.0a0,!=4.0.0a1->fsspec[http]<=2025.3.0,>=2023.1.0->datasets) (25.3.0)\n",
      "Requirement already satisfied: frozenlist>=1.1.1 in c:\\users\\engmu\\projects\\learn\\udacity-genai-peft\\.venv\\lib\\site-packages (from aiohttp!=4.0.0a0,!=4.0.0a1->fsspec[http]<=2025.3.0,>=2023.1.0->datasets) (1.7.0)\n",
      "Requirement already satisfied: multidict<7.0,>=4.5 in c:\\users\\engmu\\projects\\learn\\udacity-genai-peft\\.venv\\lib\\site-packages (from aiohttp!=4.0.0a0,!=4.0.0a1->fsspec[http]<=2025.3.0,>=2023.1.0->datasets) (6.6.4)\n",
      "Requirement already satisfied: propcache>=0.2.0 in c:\\users\\engmu\\projects\\learn\\udacity-genai-peft\\.venv\\lib\\site-packages (from aiohttp!=4.0.0a0,!=4.0.0a1->fsspec[http]<=2025.3.0,>=2023.1.0->datasets) (0.3.2)\n",
      "Requirement already satisfied: yarl<2.0,>=1.17.0 in c:\\users\\engmu\\projects\\learn\\udacity-genai-peft\\.venv\\lib\\site-packages (from aiohttp!=4.0.0a0,!=4.0.0a1->fsspec[http]<=2025.3.0,>=2023.1.0->datasets) (1.20.1)\n",
      "Requirement already satisfied: idna>=2.0 in c:\\users\\engmu\\projects\\learn\\udacity-genai-peft\\.venv\\lib\\site-packages (from yarl<2.0,>=1.17.0->aiohttp!=4.0.0a0,!=4.0.0a1->fsspec[http]<=2025.3.0,>=2023.1.0->datasets) (3.10)\n",
      "Requirement already satisfied: colorama in c:\\users\\engmu\\projects\\learn\\udacity-genai-peft\\.venv\\lib\\site-packages (from ipython>=6.1.0->ipywidgets) (0.4.6)\n",
      "Requirement already satisfied: decorator in c:\\users\\engmu\\projects\\learn\\udacity-genai-peft\\.venv\\lib\\site-packages (from ipython>=6.1.0->ipywidgets) (5.2.1)\n",
      "Requirement already satisfied: ipython-pygments-lexers in c:\\users\\engmu\\projects\\learn\\udacity-genai-peft\\.venv\\lib\\site-packages (from ipython>=6.1.0->ipywidgets) (1.1.1)\n",
      "Requirement already satisfied: jedi>=0.16 in c:\\users\\engmu\\projects\\learn\\udacity-genai-peft\\.venv\\lib\\site-packages (from ipython>=6.1.0->ipywidgets) (0.19.2)\n",
      "Requirement already satisfied: matplotlib-inline in c:\\users\\engmu\\projects\\learn\\udacity-genai-peft\\.venv\\lib\\site-packages (from ipython>=6.1.0->ipywidgets) (0.1.7)\n",
      "Requirement already satisfied: prompt_toolkit<3.1.0,>=3.0.41 in c:\\users\\engmu\\projects\\learn\\udacity-genai-peft\\.venv\\lib\\site-packages (from ipython>=6.1.0->ipywidgets) (3.0.51)\n",
      "Requirement already satisfied: pygments>=2.4.0 in c:\\users\\engmu\\projects\\learn\\udacity-genai-peft\\.venv\\lib\\site-packages (from ipython>=6.1.0->ipywidgets) (2.19.2)\n",
      "Requirement already satisfied: stack_data in c:\\users\\engmu\\projects\\learn\\udacity-genai-peft\\.venv\\lib\\site-packages (from ipython>=6.1.0->ipywidgets) (0.6.3)\n",
      "Requirement already satisfied: wcwidth in c:\\users\\engmu\\projects\\learn\\udacity-genai-peft\\.venv\\lib\\site-packages (from prompt_toolkit<3.1.0,>=3.0.41->ipython>=6.1.0->ipywidgets) (0.2.13)\n",
      "Requirement already satisfied: parso<0.9.0,>=0.8.4 in c:\\users\\engmu\\projects\\learn\\udacity-genai-peft\\.venv\\lib\\site-packages (from jedi>=0.16->ipython>=6.1.0->ipywidgets) (0.8.4)\n",
      "Requirement already satisfied: six>=1.5 in c:\\users\\engmu\\projects\\learn\\udacity-genai-peft\\.venv\\lib\\site-packages (from python-dateutil>=2.8.2->pandas) (1.17.0)\n",
      "Requirement already satisfied: charset_normalizer<4,>=2 in c:\\users\\engmu\\projects\\learn\\udacity-genai-peft\\.venv\\lib\\site-packages (from requests->transformers) (3.4.3)\n",
      "Requirement already satisfied: urllib3<3,>=1.21.1 in c:\\users\\engmu\\projects\\learn\\udacity-genai-peft\\.venv\\lib\\site-packages (from requests->transformers) (2.5.0)\n",
      "Requirement already satisfied: certifi>=2017.4.17 in c:\\users\\engmu\\projects\\learn\\udacity-genai-peft\\.venv\\lib\\site-packages (from requests->transformers) (2025.8.3)\n",
      "Requirement already satisfied: sympy>=1.13.3 in c:\\users\\engmu\\projects\\learn\\udacity-genai-peft\\.venv\\lib\\site-packages (from torch>=1.13.0->peft) (1.13.3)\n",
      "Requirement already satisfied: networkx in c:\\users\\engmu\\projects\\learn\\udacity-genai-peft\\.venv\\lib\\site-packages (from torch>=1.13.0->peft) (3.3)\n",
      "Requirement already satisfied: jinja2 in c:\\users\\engmu\\projects\\learn\\udacity-genai-peft\\.venv\\lib\\site-packages (from torch>=1.13.0->peft) (3.1.4)\n",
      "Requirement already satisfied: setuptools in c:\\users\\engmu\\projects\\learn\\udacity-genai-peft\\.venv\\lib\\site-packages (from torch>=1.13.0->peft) (70.2.0)\n",
      "Requirement already satisfied: mpmath<1.4,>=1.1.0 in c:\\users\\engmu\\projects\\learn\\udacity-genai-peft\\.venv\\lib\\site-packages (from sympy>=1.13.3->torch>=1.13.0->peft) (1.3.0)\n",
      "Requirement already satisfied: MarkupSafe>=2.0 in c:\\users\\engmu\\projects\\learn\\udacity-genai-peft\\.venv\\lib\\site-packages (from jinja2->torch>=1.13.0->peft) (2.1.5)\n",
      "Requirement already satisfied: executing>=1.2.0 in c:\\users\\engmu\\projects\\learn\\udacity-genai-peft\\.venv\\lib\\site-packages (from stack_data->ipython>=6.1.0->ipywidgets) (2.2.0)\n",
      "Requirement already satisfied: asttokens>=2.1.0 in c:\\users\\engmu\\projects\\learn\\udacity-genai-peft\\.venv\\lib\\site-packages (from stack_data->ipython>=6.1.0->ipywidgets) (3.0.0)\n",
      "Requirement already satisfied: pure-eval in c:\\users\\engmu\\projects\\learn\\udacity-genai-peft\\.venv\\lib\\site-packages (from stack_data->ipython>=6.1.0->ipywidgets) (0.2.3)\n",
      "Note: you may need to restart the kernel to use updated packages.\n"
     ]
    }
   ],
   "source": [
    "%pip install --index-url https://download.pytorch.org/whl/cu128 torch torchvision torchaudio\n",
    "%pip install transformers peft scikit-learn pandas huggingface_hub datasets hf_xet evaluate ipywidgets"
   ]
  },
  {
   "cell_type": "markdown",
   "id": "8564bb4f",
   "metadata": {},
   "source": [
    "# import needed classes"
   ]
  },
  {
   "cell_type": "code",
   "execution_count": 2,
   "id": "532cea0b",
   "metadata": {},
   "outputs": [],
   "source": [
    "import torch\n",
    "from transformers import GPT2ForSequenceClassification,AutoTokenizer,DataCollatorWithPadding,TrainingArguments,Trainer,pipeline\n",
    "from datasets import load_dataset\n",
    "import evaluate\n",
    "import numpy as np\n",
    "from peft import LoraConfig, get_peft_model, PeftModel,TaskType,AutoPeftModelForCausalLM,PeftModelForSequenceClassification,AutoPeftModelForSequenceClassification"
   ]
  },
  {
   "cell_type": "markdown",
   "id": "f8c8cd53",
   "metadata": {},
   "source": [
    "## Helper functions"
   ]
  },
  {
   "cell_type": "code",
   "execution_count": 3,
   "id": "5bf8bc3f",
   "metadata": {},
   "outputs": [],
   "source": [
    "def get_gpt2_model_and_tokenizer():\n",
    "    \"\"\"\n",
    "    Load GPT2 pre-trained model from HugginFace\n",
    "    Create and Configure Tokenizer\n",
    "    return model and tokenizer\n",
    "    \"\"\"\n",
    "    base_model_name = 'gpt2'\n",
    "    device = \"cuda\" if torch.cuda.is_available() else \"cpu\"\n",
    "    base_model = GPT2ForSequenceClassification.from_pretrained(\n",
    "        base_model_name,\n",
    "        num_labels=2,\n",
    "        id2label={0:\"neg\",1:\"pos\"},\n",
    "        label2id={\"neg\":0,\"pos\":1}\n",
    "    )\n",
    "    base_model = base_model.to(device)\n",
    "    tokenizer = AutoTokenizer.from_pretrained(base_model_name)\n",
    "    # GPT does not have padding by default and cause error with padding\n",
    "    if tokenizer.pad_token is None:\n",
    "        tokenizer.pad_token = tokenizer.eos_token  \n",
    "    tokenizer.padding_side = \"left\"\n",
    "    base_model.config.pad_token_id = tokenizer.pad_token_id\n",
    "    return base_model, tokenizer"
   ]
  },
  {
   "cell_type": "markdown",
   "id": "93e23ae8",
   "metadata": {},
   "source": [
    "## Load pre-trained model and tokenizer"
   ]
  },
  {
   "cell_type": "code",
   "execution_count": 4,
   "id": "01411de5",
   "metadata": {},
   "outputs": [
    {
     "name": "stderr",
     "output_type": "stream",
     "text": [
      "Some weights of GPT2ForSequenceClassification were not initialized from the model checkpoint at gpt2 and are newly initialized: ['score.weight']\n",
      "You should probably TRAIN this model on a down-stream task to be able to use it for predictions and inference.\n"
     ]
    }
   ],
   "source": [
    "# load pre_trained model\n",
    "base_model,tokenizer = get_gpt2_model_and_tokenizer()"
   ]
  },
  {
   "cell_type": "markdown",
   "id": "0fb9a8ef",
   "metadata": {},
   "source": [
    "## Test model manually"
   ]
  },
  {
   "cell_type": "code",
   "execution_count": 5,
   "id": "6108e785",
   "metadata": {},
   "outputs": [
    {
     "name": "stderr",
     "output_type": "stream",
     "text": [
      "Device set to use cuda:0\n"
     ]
    },
    {
     "name": "stdout",
     "output_type": "stream",
     "text": [
      "base model test with 'I feel little rainy ' result => [[{'label': 'neg', 'score': 0.9875401854515076}]]\n",
      "base model test with 'there are many definitions of 'time waster' result => [[{'label': 'neg', 'score': 0.959682285785675}]]\n",
      "base model test with 'movie has good music' result => [[{'label': 'neg', 'score': 0.9945533275604248}]]\n"
     ]
    }
   ],
   "source": [
    "tests = [\n",
    "    \"I feel little rainy \",\n",
    "    \"there are many definitions of 'time waster\",\n",
    "    \"movie has good music\"\n",
    "]\n",
    "\n",
    "base_model_pipeline = pipeline(\"text-classification\", model=base_model, tokenizer=tokenizer, top_k=1)\n",
    "for test in tests:\n",
    "    print(f\"base model test with '{test}' result => {base_model_pipeline(test)}\")"
   ]
  },
  {
   "cell_type": "markdown",
   "id": "a948a7ac",
   "metadata": {},
   "source": [
    "## Datasets"
   ]
  },
  {
   "cell_type": "code",
   "execution_count": 6,
   "id": "e9f22419",
   "metadata": {},
   "outputs": [
    {
     "name": "stdout",
     "output_type": "stream",
     "text": [
      "DatasetDict({\n",
      "    train: Dataset({\n",
      "        features: ['text', 'label'],\n",
      "        num_rows: 25000\n",
      "    })\n",
      "    test: Dataset({\n",
      "        features: ['text', 'label'],\n",
      "        num_rows: 25000\n",
      "    })\n",
      "    unsupervised: Dataset({\n",
      "        features: ['text', 'label'],\n",
      "        num_rows: 50000\n",
      "    })\n",
      "})\n"
     ]
    },
    {
     "data": {
      "application/vnd.jupyter.widget-view+json": {
       "model_id": "9feba45fb9e0464087cdf805538bac42",
       "version_major": 2,
       "version_minor": 0
      },
      "text/plain": [
       "Map:   0%|          | 0/50 [00:00<?, ? examples/s]"
      ]
     },
     "metadata": {},
     "output_type": "display_data"
    }
   ],
   "source": [
    "# load dataset\n",
    "dataset_name = \"imdb\" # \"dair-ai/emotion\" # classify text emotion\n",
    "dataset = load_dataset(dataset_name) \n",
    "print(dataset)\n",
    "# define tokenizer function\n",
    "def tokenize_fun(dataset):\n",
    "    return tokenizer(dataset[\"text\"], padding=\"max_length\", truncation=True)\n",
    "\n",
    "# define datasets\n",
    "train_dataset = dataset[\"train\"].select(range(100)).map(tokenize_fun, batched=True) # limit the dataset for fast training\n",
    "test_dataset = dataset[\"test\"].select(range(50)).map(tokenize_fun, batched=True) # limit the dataset for fast evaluation"
   ]
  },
  {
   "cell_type": "markdown",
   "id": "ffcafa32",
   "metadata": {},
   "source": [
    "## Evaluate pre-trained model"
   ]
  },
  {
   "cell_type": "code",
   "execution_count": 7,
   "id": "ffb97af4",
   "metadata": {},
   "outputs": [
    {
     "name": "stderr",
     "output_type": "stream",
     "text": [
      "C:\\Users\\engmu\\AppData\\Local\\Temp\\ipykernel_3156\\1346320767.py:23: FutureWarning: `tokenizer` is deprecated and will be removed in version 5.0.0 for `Trainer.__init__`. Use `processing_class` instead.\n",
      "  original_trainer = Trainer(\n"
     ]
    },
    {
     "data": {
      "text/html": [
       "\n",
       "    <div>\n",
       "      \n",
       "      <progress value='1' max='1' style='width:300px; height:20px; vertical-align: middle;'></progress>\n",
       "      [1/1 : < :]\n",
       "    </div>\n",
       "    "
      ],
      "text/plain": [
       "<IPython.core.display.HTML object>"
      ]
     },
     "metadata": {},
     "output_type": "display_data"
    },
    {
     "name": "stdout",
     "output_type": "stream",
     "text": [
      "{'eval_loss': 0.06124982237815857, 'eval_model_preparation_time': 0.0015, 'eval_accuracy': 1.0, 'eval_runtime': 2.0733, 'eval_samples_per_second': 24.116, 'eval_steps_per_second': 0.482}\n"
     ]
    }
   ],
   "source": [
    "#define compute metrics function\n",
    "def compute_metrics(eval_pred):\n",
    "    predictions, labels = eval_pred\n",
    "    predictions = np.argmax(predictions, axis=1)\n",
    "    return accuracy.compute(predictions=predictions, references=labels)\n",
    "\n",
    "# test pre-trained model against dataset and note total loss\n",
    "data_collator = DataCollatorWithPadding(tokenizer=tokenizer,pad_to_multiple_of=8)\n",
    "accuracy = evaluate.load(\"accuracy\")\n",
    "\n",
    "# start evaluation \n",
    "original_eval_output_dir = \"original_eval_out\"\n",
    "original_model_eval_args = TrainingArguments(\n",
    "    output_dir= original_eval_output_dir,\n",
    "    do_train=False, # don't train the model\n",
    "    do_eval=True,\n",
    "    per_device_eval_batch_size=64,\n",
    "    dataloader_num_workers=0, # cause issue on windows\n",
    "    fp16=torch.cuda.is_available(),\n",
    "    report_to=[]\n",
    ")\n",
    "\n",
    "original_trainer = Trainer(\n",
    "    model=base_model,\n",
    "    args=original_model_eval_args,\n",
    "    eval_dataset=test_dataset,\n",
    "    tokenizer=tokenizer,\n",
    "    data_collator=data_collator,\n",
    "    compute_metrics=compute_metrics\n",
    ")\n",
    "original_metrics = original_trainer.evaluate()\n",
    "print(original_metrics)"
   ]
  },
  {
   "cell_type": "markdown",
   "id": "ec4c8c33",
   "metadata": {},
   "source": [
    "## Create PEFT model from pre-trained one"
   ]
  },
  {
   "cell_type": "code",
   "execution_count": null,
   "id": "4829176d",
   "metadata": {},
   "outputs": [
    {
     "name": "stdout",
     "output_type": "stream",
     "text": [
      "GPT2ForSequenceClassification(\n",
      "  (transformer): GPT2Model(\n",
      "    (wte): Embedding(50257, 768)\n",
      "    (wpe): Embedding(1024, 768)\n",
      "    (drop): Dropout(p=0.1, inplace=False)\n",
      "    (h): ModuleList(\n",
      "      (0-11): 12 x GPT2Block(\n",
      "        (ln_1): LayerNorm((768,), eps=1e-05, elementwise_affine=True)\n",
      "        (attn): GPT2Attention(\n",
      "          (c_attn): Conv1D(nf=2304, nx=768)\n",
      "          (c_proj): Conv1D(nf=768, nx=768)\n",
      "          (attn_dropout): Dropout(p=0.1, inplace=False)\n",
      "          (resid_dropout): Dropout(p=0.1, inplace=False)\n",
      "        )\n",
      "        (ln_2): LayerNorm((768,), eps=1e-05, elementwise_affine=True)\n",
      "        (mlp): GPT2MLP(\n",
      "          (c_fc): Conv1D(nf=3072, nx=768)\n",
      "          (c_proj): Conv1D(nf=768, nx=3072)\n",
      "          (act): NewGELUActivation()\n",
      "          (dropout): Dropout(p=0.1, inplace=False)\n",
      "        )\n",
      "      )\n",
      "    )\n",
      "    (ln_f): LayerNorm((768,), eps=1e-05, elementwise_affine=True)\n",
      "  )\n",
      "  (score): Linear(in_features=768, out_features=2, bias=False)\n",
      ")\n"
     ]
    },
    {
     "name": "stderr",
     "output_type": "stream",
     "text": [
      "Some weights of GPT2ForSequenceClassification were not initialized from the model checkpoint at gpt2 and are newly initialized: ['score.weight']\n",
      "You should probably TRAIN this model on a down-stream task to be able to use it for predictions and inference.\n"
     ]
    },
    {
     "name": "stdout",
     "output_type": "stream",
     "text": [
      "trainable params: 1,181,184 || all params: 125,622,528 || trainable%: 0.9403\n"
     ]
    },
    {
     "name": "stderr",
     "output_type": "stream",
     "text": [
      "c:\\Users\\engmu\\projects\\learn\\udacity-genai-peft\\.venv\\Lib\\site-packages\\peft\\tuners\\lora\\layer.py:2156: UserWarning: fan_in_fan_out is set to False but the target module is `Conv1D`. Setting fan_in_fan_out to True.\n",
      "  warnings.warn(\n"
     ]
    }
   ],
   "source": [
    "# create peft model\n",
    "print(base_model)\n",
    "config = LoraConfig(\n",
    "    task_type=TaskType.SEQ_CLS,    \n",
    "    r=8,\n",
    "    lora_alpha=32,\n",
    "    lora_dropout=0.1,\n",
    "    bias=\"none\",\n",
    "    target_modules=[\"c_attn\", \"c_proj\", \"c_fc\"],  \n",
    "    modules_to_save=[\"score\"],    \n",
    ")\n",
    "\n",
    "peft_original_model, peft_tokenizer = get_gpt2_model_and_tokenizer()\n",
    "\n",
    "peft_model = get_peft_model(peft_original_model,config)\n",
    "peft_model.print_trainable_parameters()"
   ]
  },
  {
   "cell_type": "markdown",
   "id": "d77afc4a",
   "metadata": {},
   "source": [
    "## Train PEFT Model on train dataset"
   ]
  },
  {
   "cell_type": "code",
   "execution_count": 9,
   "id": "0889b6e5",
   "metadata": {},
   "outputs": [
    {
     "name": "stderr",
     "output_type": "stream",
     "text": [
      "C:\\Users\\engmu\\AppData\\Local\\Temp\\ipykernel_3156\\2246569190.py:15: FutureWarning: `tokenizer` is deprecated and will be removed in version 5.0.0 for `Trainer.__init__`. Use `processing_class` instead.\n",
      "  peft_trainer = Trainer(\n"
     ]
    },
    {
     "data": {
      "text/html": [
       "\n",
       "    <div>\n",
       "      \n",
       "      <progress value='39' max='39' style='width:300px; height:20px; vertical-align: middle;'></progress>\n",
       "      [39/39 03:12, Epoch 3/3]\n",
       "    </div>\n",
       "    <table border=\"1\" class=\"dataframe\">\n",
       "  <thead>\n",
       " <tr style=\"text-align: left;\">\n",
       "      <th>Step</th>\n",
       "      <th>Training Loss</th>\n",
       "    </tr>\n",
       "  </thead>\n",
       "  <tbody>\n",
       "  </tbody>\n",
       "</table><p>"
      ],
      "text/plain": [
       "<IPython.core.display.HTML object>"
      ]
     },
     "metadata": {},
     "output_type": "display_data"
    },
    {
     "name": "stdout",
     "output_type": "stream",
     "text": [
      "TrainOutput(global_step=39, training_loss=0.28437379690317005, metrics={'train_runtime': 199.1629, 'train_samples_per_second': 1.506, 'train_steps_per_second': 0.196, 'total_flos': 158955208704000.0, 'train_loss': 0.28437379690317005, 'epoch': 3.0})\n"
     ]
    }
   ],
   "source": [
    "# train the model against dataset\n",
    "training_model_output_dir=\"peft_gpt_train_out\"\n",
    "peft_model_train_args = TrainingArguments(\n",
    "    output_dir=training_model_output_dir,\n",
    "    do_train=True,\n",
    "    do_eval=False,\n",
    "    per_device_train_batch_size=64,\n",
    "    dataloader_num_workers=0,\n",
    "    num_train_epochs=3,\n",
    "    fp16=torch.cuda.is_available(),\n",
    "    report_to=[],\n",
    "    group_by_length=True\n",
    ")\n",
    "\n",
    "peft_trainer = Trainer(\n",
    "    model=peft_model,\n",
    "    args=original_model_eval_args,\n",
    "    train_dataset=train_dataset,\n",
    "    tokenizer=peft_tokenizer,\n",
    "    data_collator=data_collator,\n",
    "    compute_metrics=compute_metrics\n",
    ")\n",
    "metrics = peft_trainer.train()\n",
    "print(metrics)\n",
    "peft_model.save_pretrained(\"gpt2-mustafa\")\n"
   ]
  },
  {
   "cell_type": "markdown",
   "id": "329f1888",
   "metadata": {},
   "source": [
    "# Test PEFT Model"
   ]
  },
  {
   "cell_type": "code",
   "execution_count": 10,
   "id": "780e783c",
   "metadata": {},
   "outputs": [
    {
     "name": "stderr",
     "output_type": "stream",
     "text": [
      "Some weights of GPT2ForSequenceClassification were not initialized from the model checkpoint at gpt2 and are newly initialized: ['score.weight']\n",
      "You should probably TRAIN this model on a down-stream task to be able to use it for predictions and inference.\n",
      "C:\\Users\\engmu\\AppData\\Local\\Temp\\ipykernel_3156\\985751935.py:19: FutureWarning: `tokenizer` is deprecated and will be removed in version 5.0.0 for `Trainer.__init__`. Use `processing_class` instead.\n",
      "  peft_trainer = Trainer(\n"
     ]
    },
    {
     "data": {
      "text/html": [
       "\n",
       "    <div>\n",
       "      \n",
       "      <progress value='2' max='2' style='width:300px; height:20px; vertical-align: middle;'></progress>\n",
       "      [2/2 00:10]\n",
       "    </div>\n",
       "    "
      ],
      "text/plain": [
       "<IPython.core.display.HTML object>"
      ]
     },
     "metadata": {},
     "output_type": "display_data"
    },
    {
     "name": "stdout",
     "output_type": "stream",
     "text": [
      "{'eval_loss': 0.03673555329442024, 'eval_model_preparation_time': 0.0135, 'eval_accuracy': 1.0, 'eval_runtime': 31.1127, 'eval_samples_per_second': 1.607, 'eval_steps_per_second': 0.064}\n",
      "TrainOutput(global_step=39, training_loss=0.28437379690317005, metrics={'train_runtime': 199.1629, 'train_samples_per_second': 1.506, 'train_steps_per_second': 0.196, 'total_flos': 158955208704000.0, 'train_loss': 0.28437379690317005, 'epoch': 3.0})\n"
     ]
    }
   ],
   "source": [
    "peft_model = AutoPeftModelForSequenceClassification.from_pretrained(\n",
    "    'gpt2-mustafa',\n",
    "    num_labels=2,\n",
    "    id2label={0:\"neg\",1:\"pos\"},\n",
    "    label2id={\"neg\":0,\"pos\":1}\n",
    ")\n",
    "peft_model.config.pad_token_id = peft_tokenizer.pad_token_id\n",
    "peft_eval_output_dir = \"peft_eval_out\"\n",
    "peft_model_eval_args = TrainingArguments(\n",
    "    output_dir=peft_eval_output_dir,\n",
    "    do_train=False,\n",
    "    do_eval=True,\n",
    "    per_device_eval_batch_size=32,\n",
    "    dataloader_num_workers=0,\n",
    "    fp16=torch.cuda.is_available(),\n",
    "    report_to=[]\n",
    ")\n",
    "\n",
    "peft_trainer = Trainer(\n",
    "    model=peft_model,\n",
    "    args=peft_model_eval_args,\n",
    "    eval_dataset=test_dataset,\n",
    "    tokenizer=peft_tokenizer,\n",
    "    data_collator=data_collator,\n",
    "    compute_metrics=compute_metrics\n",
    ")\n",
    "peft_metrics = peft_trainer.evaluate()\n",
    "print(peft_metrics)\n",
    "print(metrics)"
   ]
  },
  {
   "cell_type": "markdown",
   "id": "e3ff29d3",
   "metadata": {},
   "source": [
    "## Compare between original model and PEFT model"
   ]
  },
  {
   "cell_type": "code",
   "execution_count": 11,
   "id": "2f937a64",
   "metadata": {},
   "outputs": [
    {
     "name": "stdout",
     "output_type": "stream",
     "text": [
      "peft result: original model eval loss 0.06124982237815857 => peft model eval loss 0.03673555329442024\n"
     ]
    }
   ],
   "source": [
    "print(f\"peft result: original model eval loss {original_metrics[\"eval_loss\"]} => peft model eval loss {peft_metrics[\"eval_loss\"]}\")"
   ]
  },
  {
   "cell_type": "markdown",
   "id": "216d10c2",
   "metadata": {},
   "source": [
    "## manually test both original model and PEFT model"
   ]
  },
  {
   "cell_type": "code",
   "execution_count": 12,
   "id": "d37cd2b1",
   "metadata": {},
   "outputs": [
    {
     "name": "stderr",
     "output_type": "stream",
     "text": [
      "Device set to use cuda:0\n"
     ]
    },
    {
     "name": "stdout",
     "output_type": "stream",
     "text": [
      "peft model test with 'I feel little rainy ' result => [[{'label': 'neg', 'score': 0.6095241904258728}]]\n",
      "peft model test with 'there are many definitions of 'time waster' result => [[{'label': 'neg', 'score': 0.5869964361190796}]]\n",
      "peft model test with 'movie has good music' result => [[{'label': 'neg', 'score': 0.7563575506210327}]]\n",
      "GPT2ForSequenceClassification(\n",
      "  (transformer): GPT2Model(\n",
      "    (wte): Embedding(50257, 768)\n",
      "    (wpe): Embedding(1024, 768)\n",
      "    (drop): Dropout(p=0.1, inplace=False)\n",
      "    (h): ModuleList(\n",
      "      (0-11): 12 x GPT2Block(\n",
      "        (ln_1): LayerNorm((768,), eps=1e-05, elementwise_affine=True)\n",
      "        (attn): GPT2Attention(\n",
      "          (c_attn): Conv1D(nf=2304, nx=768)\n",
      "          (c_proj): Conv1D(nf=768, nx=768)\n",
      "          (attn_dropout): Dropout(p=0.1, inplace=False)\n",
      "          (resid_dropout): Dropout(p=0.1, inplace=False)\n",
      "        )\n",
      "        (ln_2): LayerNorm((768,), eps=1e-05, elementwise_affine=True)\n",
      "        (mlp): GPT2MLP(\n",
      "          (c_fc): Conv1D(nf=3072, nx=768)\n",
      "          (c_proj): Conv1D(nf=768, nx=3072)\n",
      "          (act): NewGELUActivation()\n",
      "          (dropout): Dropout(p=0.1, inplace=False)\n",
      "        )\n",
      "      )\n",
      "    )\n",
      "    (ln_f): LayerNorm((768,), eps=1e-05, elementwise_affine=True)\n",
      "  )\n",
      "  (score): Linear(in_features=768, out_features=2, bias=False)\n",
      ")\n",
      "GPT2ForSequenceClassification(\n",
      "  (transformer): GPT2Model(\n",
      "    (wte): Embedding(50257, 768)\n",
      "    (wpe): Embedding(1024, 768)\n",
      "    (drop): Dropout(p=0.1, inplace=False)\n",
      "    (h): ModuleList(\n",
      "      (0-11): 12 x GPT2Block(\n",
      "        (ln_1): LayerNorm((768,), eps=1e-05, elementwise_affine=True)\n",
      "        (attn): GPT2Attention(\n",
      "          (c_attn): lora.Linear(\n",
      "            (base_layer): Conv1D(nf=2304, nx=768)\n",
      "            (lora_dropout): ModuleDict(\n",
      "              (default): Dropout(p=0.1, inplace=False)\n",
      "            )\n",
      "            (lora_A): ModuleDict(\n",
      "              (default): Linear(in_features=768, out_features=8, bias=False)\n",
      "            )\n",
      "            (lora_B): ModuleDict(\n",
      "              (default): Linear(in_features=8, out_features=2304, bias=False)\n",
      "            )\n",
      "            (lora_embedding_A): ParameterDict()\n",
      "            (lora_embedding_B): ParameterDict()\n",
      "            (lora_magnitude_vector): ModuleDict()\n",
      "          )\n",
      "          (c_proj): lora.Linear(\n",
      "            (base_layer): Conv1D(nf=768, nx=768)\n",
      "            (lora_dropout): ModuleDict(\n",
      "              (default): Dropout(p=0.1, inplace=False)\n",
      "            )\n",
      "            (lora_A): ModuleDict(\n",
      "              (default): Linear(in_features=768, out_features=8, bias=False)\n",
      "            )\n",
      "            (lora_B): ModuleDict(\n",
      "              (default): Linear(in_features=8, out_features=768, bias=False)\n",
      "            )\n",
      "            (lora_embedding_A): ParameterDict()\n",
      "            (lora_embedding_B): ParameterDict()\n",
      "            (lora_magnitude_vector): ModuleDict()\n",
      "          )\n",
      "          (attn_dropout): Dropout(p=0.1, inplace=False)\n",
      "          (resid_dropout): Dropout(p=0.1, inplace=False)\n",
      "        )\n",
      "        (ln_2): LayerNorm((768,), eps=1e-05, elementwise_affine=True)\n",
      "        (mlp): GPT2MLP(\n",
      "          (c_fc): lora.Linear(\n",
      "            (base_layer): Conv1D(nf=3072, nx=768)\n",
      "            (lora_dropout): ModuleDict(\n",
      "              (default): Dropout(p=0.1, inplace=False)\n",
      "            )\n",
      "            (lora_A): ModuleDict(\n",
      "              (default): Linear(in_features=768, out_features=8, bias=False)\n",
      "            )\n",
      "            (lora_B): ModuleDict(\n",
      "              (default): Linear(in_features=8, out_features=3072, bias=False)\n",
      "            )\n",
      "            (lora_embedding_A): ParameterDict()\n",
      "            (lora_embedding_B): ParameterDict()\n",
      "            (lora_magnitude_vector): ModuleDict()\n",
      "          )\n",
      "          (c_proj): lora.Linear(\n",
      "            (base_layer): Conv1D(nf=768, nx=3072)\n",
      "            (lora_dropout): ModuleDict(\n",
      "              (default): Dropout(p=0.1, inplace=False)\n",
      "            )\n",
      "            (lora_A): ModuleDict(\n",
      "              (default): Linear(in_features=3072, out_features=8, bias=False)\n",
      "            )\n",
      "            (lora_B): ModuleDict(\n",
      "              (default): Linear(in_features=8, out_features=768, bias=False)\n",
      "            )\n",
      "            (lora_embedding_A): ParameterDict()\n",
      "            (lora_embedding_B): ParameterDict()\n",
      "            (lora_magnitude_vector): ModuleDict()\n",
      "          )\n",
      "          (act): NewGELUActivation()\n",
      "          (dropout): Dropout(p=0.1, inplace=False)\n",
      "        )\n",
      "      )\n",
      "    )\n",
      "    (ln_f): LayerNorm((768,), eps=1e-05, elementwise_affine=True)\n",
      "  )\n",
      "  (score): ModulesToSaveWrapper(\n",
      "    (original_module): Linear(in_features=768, out_features=2, bias=False)\n",
      "    (modules_to_save): ModuleDict(\n",
      "      (default): Linear(in_features=768, out_features=2, bias=False)\n",
      "    )\n",
      "  )\n",
      ")\n"
     ]
    }
   ],
   "source": [
    "tests = [\n",
    "    \"I feel little rainy \",\n",
    "    \"there are many definitions of 'time waster\",\n",
    "    \"movie has good music\"\n",
    "]\n",
    "\n",
    "\n",
    "peft_model_pipeline = pipeline(\"text-classification\", model=peft_model,tokenizer=tokenizer, top_k=1)\n",
    "for test in tests:\n",
    "    print(f\"peft model test with '{test}' result => {peft_model_pipeline(test)}\")\n",
    "\n",
    "print(base_model)\n",
    "print(peft_original_model)"
   ]
  }
 ],
 "metadata": {
  "kernelspec": {
   "display_name": ".venv",
   "language": "python",
   "name": "python3"
  },
  "language_info": {
   "codemirror_mode": {
    "name": "ipython",
    "version": 3
   },
   "file_extension": ".py",
   "mimetype": "text/x-python",
   "name": "python",
   "nbconvert_exporter": "python",
   "pygments_lexer": "ipython3",
   "version": "3.12.6"
  }
 },
 "nbformat": 4,
 "nbformat_minor": 5
}
